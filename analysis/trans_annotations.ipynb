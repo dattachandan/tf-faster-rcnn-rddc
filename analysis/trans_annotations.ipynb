{
 "cells": [
  {
   "cell_type": "markdown",
   "metadata": {},
   "source": [
    "## trans annos from xml to txt"
   ]
  },
  {
   "cell_type": "code",
   "execution_count": 1,
   "metadata": {
    "collapsed": true
   },
   "outputs": [],
   "source": [
    "def parse_rec(filename):\n",
    "    \"\"\" Parse a PASCAL VOC xml file \"\"\"\n",
    "\n",
    "    tree = ET.parse(filename)\n",
    "    objects = []\n",
    "\n",
    "    for pic in tree.findall('size'):\n",
    "        pic_struct = {}\n",
    "        pic_struct['width'] = int(pic.find('width').text)\n",
    "        pic_struct['height'] = int(pic.find('height').text)\n",
    "        objects.append(pic_struct)\n",
    "\n",
    "    for obj in tree.findall('object'):\n",
    "        # skip D30\n",
    "        if obj.find('name').text == 'D30':\n",
    "            continue\n",
    "        obj_struct = {}\n",
    "        obj_struct['name'] = obj.find('name').text\n",
    "        bbox = obj.find('bndbox')\n",
    "        obj_struct['bbox'] = [int(float(bbox.find('xmin').text)),\n",
    "                              int(float(bbox.find('ymin').text)),\n",
    "                              int(float(bbox.find('xmax').text)),\n",
    "                              int(float(bbox.find('ymax').text))]\n",
    "        objects.append(obj_struct)\n",
    "    return objects"
   ]
  },
  {
   "cell_type": "code",
   "execution_count": 2,
   "metadata": {},
   "outputs": [
    {
     "name": "stdout",
     "output_type": "stream",
     "text": [
      "VOC years: 2007\n",
      "Trainval images number: 7240\n",
      "Trans annotations finished.\n"
     ]
    }
   ],
   "source": [
    "import os, sys\n",
    "import xml.etree.ElementTree as ET\n",
    "\n",
    "ROOT_DIR = '/home/wangwenzhe/tf-faster-rcnn-rddc'\n",
    "VOCDEVKIT_DIR = os.path.join(ROOT_DIR, 'data', 'VOCdevkit2007')\n",
    "\n",
    "VOCopts_classes=['D00', 'D01', 'D10', 'D11', 'D20', 'D40', 'D43', 'D44']\n",
    "years = ['2007']\n",
    "split = ['trainval', 'test']\n",
    "fileName = 'window_file_voc2007_trainval.txt'\n",
    "fid = open(fileName, 'wt')\n",
    "\n",
    "# just running\n",
    "print('VOC years: %s' %(years[0]))\n",
    "txt = os.path.join(VOCDEVKIT_DIR, 'VOC' + years[0], 'ImageSets', 'Main' , split[0] + '.txt')\n",
    "f = open(txt); idList = f.readlines(); f.close()\n",
    "print('Trainval images number: %s' %(len(idList)))\n",
    "\n",
    "for u in range(len(idList)):\n",
    "    nm = idList[u].strip() + '.jpg'\n",
    "    xm = idList[u].strip() + '.xml'\n",
    "    imgFullName = os.path.join(VOCDEVKIT_DIR, 'VOC' + years[0], 'JPEGImages', nm)\n",
    "    xmlPath = os.path.join(VOCDEVKIT_DIR, 'VOC' + years[0], 'Annotations', xm)\n",
    "    nObjs = parse_rec(xmlPath)\n",
    "    \n",
    "    fid.write('%s\\n' % imgFullName)\n",
    "    fid.write('%d\\n' %(len(nObjs) - 1))\n",
    "    \n",
    "    for j in range(1, len(nObjs)):\n",
    "        clsIds = nObjs[j]['name']\n",
    "        xmin, ymin, xmax, ymax = nObjs[j]['bbox']\n",
    "        if (xmax <= xmin) | (ymax <= ymin):\n",
    "            print('Warning. Confirm xmin <= xmax and ymin <= ymax[%d <= %d and %d <= %d]' %(xmin, xmax, ymin, ymax))\n",
    "        clsId = VOCopts_classes.index(clsIds) + 1\n",
    "        t_lines = str(clsId) + ' ' + str(xmin) + ' ' + str(ymin) + ' ' + str(xmax) + ' ' + str(ymax)\n",
    "        fid.write('%s\\n' % t_lines)\n",
    "    \n",
    "print('Trans annotations finished.')\n",
    "fid.close()"
   ]
  },
  {
   "cell_type": "code",
   "execution_count": null,
   "metadata": {
    "collapsed": true
   },
   "outputs": [],
   "source": []
  }
 ],
 "metadata": {
  "kernelspec": {
   "display_name": "Python 3",
   "language": "python",
   "name": "python3"
  },
  "language_info": {
   "codemirror_mode": {
    "name": "ipython",
    "version": 3
   },
   "file_extension": ".py",
   "mimetype": "text/x-python",
   "name": "python",
   "nbconvert_exporter": "python",
   "pygments_lexer": "ipython3",
   "version": "3.4.3"
  }
 },
 "nbformat": 4,
 "nbformat_minor": 2
}
