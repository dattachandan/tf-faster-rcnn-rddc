{
 "cells": [
  {
   "cell_type": "markdown",
   "metadata": {},
   "source": [
    "## Settings"
   ]
  },
  {
   "cell_type": "code",
   "execution_count": 1,
   "metadata": {},
   "outputs": [
    {
     "name": "stderr",
     "output_type": "stream",
     "text": [
      "/home/wangwenzhe/tf-faster-rcnn/python3_env/lib/python3.4/importlib/_bootstrap.py:321: RuntimeWarning: numpy.dtype size changed, may indicate binary incompatibility. Expected 96, got 88\n",
      "  return f(*args, **kwds)\n",
      "/home/wangwenzhe/tf-faster-rcnn/python3_env/lib/python3.4/importlib/_bootstrap.py:321: RuntimeWarning: numpy.dtype size changed, may indicate binary incompatibility. Expected 96, got 88\n",
      "  return f(*args, **kwds)\n",
      "/home/wangwenzhe/tf-faster-rcnn/python3_env/lib/python3.4/importlib/_bootstrap.py:321: RuntimeWarning: numpy.dtype size changed, may indicate binary incompatibility. Expected 96, got 88\n",
      "  return f(*args, **kwds)\n"
     ]
    }
   ],
   "source": [
    "import os\n",
    "import cv2\n",
    "from glob import glob\n",
    "from imgaug import augmenters as iaa\n",
    "%matplotlib inline\n",
    "import matplotlib.pyplot as plt\n",
    "\n",
    "ROOT_DIR = '/home/wangwenzhe/tf-faster-rcnn-rddc'\n",
    "ANALYSIS_DIR = os.path.join(ROOT_DIR, 'analysis')\n",
    "IMAGE_DIR = '/home/wangwenzhe/tf-faster-rcnn-rddc/data/VOCdevkit2007/VOC2007/JPEGImages/'\n",
    "ANNO_DIR = '/home/wangwenzhe/tf-faster-rcnn-rddc/data/VOCdevkit2007/VOC2007/Annotations/'\n",
    "TXT_DIR = '/home/wangwenzhe/tf-faster-rcnn-rddc/data/VOCdevkit2007/VOC2007/ImageSets/Main/'"
   ]
  },
  {
   "cell_type": "markdown",
   "metadata": {},
   "source": [
    "## Data balance analysis"
   ]
  },
  {
   "cell_type": "code",
   "execution_count": 2,
   "metadata": {
    "collapsed": true
   },
   "outputs": [],
   "source": [
    "file_name = 'window_file_voc2007_trainval.txt'\n",
    "\n",
    "# load the annotations\n",
    "bboxs = []\n",
    "anno_dict = {}\n",
    "with open(os.path.join(ANALYSIS_DIR, file_name)) as f:\n",
    "    im_name = f.readline().strip()\n",
    "    while(im_name):\n",
    "        obj_num = int(f.readline().strip())\n",
    "        for i in range(obj_num):\n",
    "            bboxs.append(f.readline().strip().split(' '))\n",
    "        anno_dict[im_name] = bboxs[-obj_num:] if obj_num > 0 else []\n",
    "        im_name = f.readline().strip()"
   ]
  },
  {
   "cell_type": "code",
   "execution_count": 3,
   "metadata": {},
   "outputs": [
    {
     "name": "stdout",
     "output_type": "stream",
     "text": [
      "Number of pictures: 7240 + 2400 = 9640\n",
      "Number of pictures (each class): [2679, 3732, 1182, 1032, 2444, 1268, 1312, 3540]\n"
     ]
    },
    {
     "data": {
      "image/png": "[encoded data removed]",
      "text/plain": [
       "<Figure size 432x288 with 1 Axes>"
      ]
     },
     "metadata": {},
     "output_type": "display_data"
    }
   ],
   "source": [
    "CLASSES = ('d00', 'd01', 'd10', 'd11', 'd20', 'd40', 'd43', 'd44')\n",
    "\n",
    "# suppose we augment the data of class 3, 4, 6, 7\n",
    "do_aug = 0\n",
    "aug_num = 0\n",
    "for im_name in anno_dict:\n",
    "    for bbox in anno_dict[im_name]:\n",
    "        if int(bbox[0]) in [3,4,7]:\n",
    "            do_aug = 1 if do_aug < 1 else do_aug # 2 times\n",
    "        elif int(bbox[0]) in [6]:\n",
    "            do_aug = 3 if do_aug < 3 else do_aug # 4 times\n",
    "    for bbox in anno_dict[im_name]:\n",
    "        for i in range(do_aug):\n",
    "            bboxs.append(bbox)\n",
    "    aug_num += do_aug\n",
    "    do_aug = 0\n",
    "print('Number of pictures: {} + {} = {}'.format(len(anno_dict), aug_num, len(anno_dict) + aug_num))\n",
    "    \n",
    "# number of pictures after augmentation (each class)\n",
    "class_num = [0 for i in range(8)]\n",
    "for b in bboxs:\n",
    "    class_num[int(b[0]) - 1] += 1\n",
    "print('Number of pictures (each class): {}'.format(class_num))\n",
    "plt.bar(CLASSES, class_num, 0.8)\n",
    "plt.show()"
   ]
  },
  {
   "cell_type": "markdown",
   "metadata": {},
   "source": [
    "## Training data augmentation"
   ]
  },
  {
   "cell_type": "code",
   "execution_count": null,
   "metadata": {},
   "outputs": [],
   "source": [
    "# augment the training data\n",
    "seq = iaa.OneOf([\n",
    "    iaa.ContrastNormalization((1.2,2)),\n",
    "    iaa.ContrastNormalization(0.5,0.7),\n",
    "    iaa.Multiply((1.2,1.5)),\n",
    "    iaa.Multiply((0.5,0.7)),\n",
    "    iaa.GaussianBlur((0.8,1.2))\n",
    "])\n",
    "\n",
    "seq_cont = iaa.OneOf([\n",
    "    iaa.ContrastNormalization((1.2,2)),\n",
    "    iaa.ContrastNormalization(0.5,0.7)\n",
    "])\n",
    "\n",
    "seq_mult = iaa.OneOf([\n",
    "    iaa.Multiply((1.2,1.5)),\n",
    "    iaa.Multiply((0.5,0.7))\n",
    "])\n",
    "\n",
    "seq_guas = iaa.OneOf([\n",
    "    iaa.GaussianBlur((0.8,1.2))\n",
    "])\n",
    "\n",
    "images = glob(IMAGE_DIR + 'train_[A-Z]*.jpg')\n",
    "images.sort()\n",
    "do_aug = 0\n",
    "count = 0\n",
    "for im_name in images:\n",
    "    for bbox in anno_dict[im_name]:\n",
    "        if int(bbox[0]) in [3,4,7]:\n",
    "            do_aug = 1 if do_aug < 1 else do_aug # 2 times\n",
    "        elif int(bbox[0]) in [6]:\n",
    "            do_aug = 3 if do_aug < 3 else do_aug # 4 times\n",
    "    im = cv2.imread(im_name)\n",
    "    anno = im_name.replace('JPEGImages', 'Annotations').replace('jpg', 'xml')\n",
    "    if do_aug == 1:\n",
    "        im_aug0 = seq.augment_image(im)\n",
    "        cv2.imwrite(im_name.replace('train', 'train_aug0'), im_aug0)\n",
    "        with open(anno) as fr, open(anno.replace('train', 'train_aug0'),'w') as fw:\n",
    "            fw.write(fr.read().replace('train', 'train_aug0'))\n",
    "    elif do_aug == 3:\n",
    "        im_aug1 = seq_cont.augment_image(im)\n",
    "        cv2.imwrite(im_name.replace('train', 'train_aug1'), im_aug1)\n",
    "        with open(anno) as fr, open(anno.replace('train', 'train_aug1'),'w') as fw:\n",
    "            fw.write(fr.read().replace('train', 'train_aug1'))\n",
    "        im_aug2 = seq_mult.augment_image(im)\n",
    "        cv2.imwrite(im_name.replace('train', 'train_aug2'), im_aug2)\n",
    "        with open(anno) as fr, open(anno.replace('train', 'train_aug2'),'w') as fw:\n",
    "            fw.write(fr.read().replace('train', 'train_aug2'))\n",
    "        im_aug3 = seq_guas.augment_image(im)\n",
    "        cv2.imwrite(im_name.replace('train', 'train_aug3'), im_aug3)\n",
    "        with open(anno) as fr, open(anno.replace('train', 'train_aug3'),'w') as fw:\n",
    "            fw.write(fr.read().replace('train', 'train_aug3'))\n",
    "    count += do_aug\n",
    "    do_aug = 0\n",
    "    print(str(count) + ' / ' + str(aug_num), end='\\r', flush=True)"
   ]
  },
  {
   "cell_type": "code",
   "execution_count": null,
   "metadata": {
    "collapsed": true
   },
   "outputs": [],
   "source": [
    "# update trainval.txt\n",
    "train_images = glob(IMAGE_DIR + 'train*.jpg')\n",
    "with open(TXT_DIR + 'trainval.txt', 'w') as f:\n",
    "    for im_name in train_images:\n",
    "        f.write(im_name.split('/')[-1].split('.')[0] + '\\n')"
   ]
  },
  {
   "cell_type": "markdown",
   "metadata": {},
   "source": [
    "## Other tools that may be useful"
   ]
  },
  {
   "cell_type": "markdown",
   "metadata": {},
   "source": [
    "### 1.  Validity the verify of training data augmentation"
   ]
  },
  {
   "cell_type": "code",
   "execution_count": null,
   "metadata": {
    "collapsed": true
   },
   "outputs": [],
   "source": [
    "# change test.txt to augmented data in trainval.txt\n",
    "train_aug_images = glob(IMAGE_DIR + 'train_aug*.jpg')\n",
    "with open(TXT_DIR + 'test.txt', 'w') as f:\n",
    "    for im_name in train_aug_images:\n",
    "        f.write(im_name.split('/')[-1].split('.')[0] + '\\n')"
   ]
  },
  {
   "cell_type": "code",
   "execution_count": null,
   "metadata": {
    "collapsed": true
   },
   "outputs": [],
   "source": [
    "# change test.txt to original data in trainval.txt\n",
    "train_images = glob(IMAGE_DIR + 'train_[A-Z]*.jpg')\n",
    "train_images.sort()\n",
    "with open(TXT_DIR + 'test.txt', 'w') as f:\n",
    "    for im_name in train_images:\n",
    "        f.write(im_name.split('/')[-1].split('.')[0] + '\\n')"
   ]
  },
  {
   "cell_type": "code",
   "execution_count": null,
   "metadata": {
    "collapsed": true
   },
   "outputs": [],
   "source": [
    "# test on the above datasets using existing model separately, then compare the mAP values"
   ]
  },
  {
   "cell_type": "markdown",
   "metadata": {},
   "source": [
    "### 2.  Test data augmentation"
   ]
  },
  {
   "cell_type": "code",
   "execution_count": null,
   "metadata": {
    "collapsed": true
   },
   "outputs": [],
   "source": [
    "# augment the test data\n",
    "seq = iaa.OneOf([\n",
    "    iaa.ContrastNormalization((1.2,2)),\n",
    "    iaa.ContrastNormalization(0.5,0.7),\n",
    "    iaa.Multiply((1.2,1.5)),\n",
    "    iaa.Multiply((0.5,0.7)),\n",
    "    iaa.GaussianBlur((0.8,1.2))\n",
    "])\n",
    "\n",
    "images = glob(IMAGE_DIR + 'test_[A-Z]*.jpg')\n",
    "for im_name in images:\n",
    "    print(str(images.index(im_name) + 1) + ' / ' + str(len(images)), end='\\r', flush=True)\n",
    "    im = cv2.imread(im_name)\n",
    "    im_aug = seq.augment_image(im)\n",
    "    cv2.imwrite(im_name.replace('test', 'test_aug'), im_aug)"
   ]
  },
  {
   "cell_type": "code",
   "execution_count": null,
   "metadata": {
    "collapsed": true
   },
   "outputs": [],
   "source": [
    "# update test.txt\n",
    "test_images = glob(IMAGE_DIR + 'test*.jpg')\n",
    "with open(TXT_DIR + 'test.txt', 'w') as f:\n",
    "    for im_name in test_images:\n",
    "        f.write(im_name.split('/')[-1].split('.')[0] + '\\n')"
   ]
  },
  {
   "cell_type": "code",
   "execution_count": null,
   "metadata": {
    "collapsed": true
   },
   "outputs": [],
   "source": [
    "# then use some way to get more robust results using the augmented test data"
   ]
  },
  {
   "cell_type": "markdown",
   "metadata": {},
   "source": [
    "### 3.  Delete the augmented data"
   ]
  },
  {
   "cell_type": "code",
   "execution_count": null,
   "metadata": {
    "collapsed": true
   },
   "outputs": [],
   "source": [
    "# delete the augmented training data\n",
    "os.system('rm ' + IMAGE_DIR + 'train_aug*.jpg')\n",
    "os.system('rm ' + ANNO_DIR + 'train_aug*.xml')"
   ]
  },
  {
   "cell_type": "code",
   "execution_count": null,
   "metadata": {
    "collapsed": true
   },
   "outputs": [],
   "source": [
    "# delete the augmented test data\n",
    "os.system('rm ' + IMAGE_DIR + 'test_aug*.jpg')"
   ]
  },
  {
   "cell_type": "code",
   "execution_count": null,
   "metadata": {
    "collapsed": true
   },
   "outputs": [],
   "source": []
  }
 ],
 "metadata": {
  "kernelspec": {
   "display_name": "Python 3",
   "language": "python",
   "name": "python3"
  },
  "language_info": {
   "codemirror_mode": {
    "name": "ipython",
    "version": 3
   },
   "file_extension": ".py",
   "mimetype": "text/x-python",
   "name": "python",
   "nbconvert_exporter": "python",
   "pygments_lexer": "ipython3",
   "version": "3.4.3"
  }
 },
 "nbformat": 4,
 "nbformat_minor": 2
}
